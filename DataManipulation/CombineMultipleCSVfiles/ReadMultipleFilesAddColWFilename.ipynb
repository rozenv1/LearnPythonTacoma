{
 "cells": [
  {
   "cell_type": "code",
   "execution_count": null,
   "metadata": {},
   "outputs": [],
   "source": [
    "import os\n",
    "import pandas as pd\n",
    "\n",
    "files_path = \"data\"\n",
    "\n",
    "file_list = []\n",
    "for file in files_path:\n",
    "    if file.endswith('.csv'):\n",
    "        df = pd.read_csv(file, sep = \";\")\n",
    "        df['filename'] = file\n",
    "        file_list.append(df)\n",
    "        \n",
    "all_sites_data = pd.concat(file_list, ignore_index=True)\n",
    "all_sites_data.head()\n",
    "        "
   ]
  },
  {
   "cell_type": "code",
   "execution_count": null,
   "metadata": {},
   "outputs": [],
   "source": []
  }
 ],
 "metadata": {
  "kernelspec": {
   "display_name": "Python 3",
   "language": "python",
   "name": "python3"
  },
  "language_info": {
   "codemirror_mode": {
    "name": "ipython",
    "version": 3
   },
   "file_extension": ".py",
   "mimetype": "text/x-python",
   "name": "python",
   "nbconvert_exporter": "python",
   "pygments_lexer": "ipython3",
   "version": "3.7.1"
  }
 },
 "nbformat": 4,
 "nbformat_minor": 2
}
