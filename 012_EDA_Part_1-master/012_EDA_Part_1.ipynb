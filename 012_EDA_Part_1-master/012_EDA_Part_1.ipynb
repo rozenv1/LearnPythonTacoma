{
 "cells": [
  {
   "cell_type": "markdown",
   "metadata": {
    "ExecuteTime": {
     "end_time": "2019-12-21T22:22:12.060297Z",
     "start_time": "2019-12-21T22:22:12.056965Z"
    }
   },
   "source": [
    "<img src='graphics/titanic.jpg'>\n",
    "\n",
    "# 012 Exploratory Data Analysis (EDA), Part 1\n",
    "\n",
    "In past sessions we have talked about initial data analyses (IDA) briefly, and we described some of the quick commands to learn more about your data. We have also talked about visualizing data with Matplotlib and Seaborn in the previous two meetings. In this notebook, we will bring all of these lessons together to talk about how to explore your data more fully in what is the first important step in data analytics and data science.\n",
    "\n",
    "# What is an EDA?\n",
    "\n",
    "The National Institute of Standards and Technology (NIST) describes an EDA as an approach/philosophy for data analysis that employs a variety of techniques to:\n",
    "1. **maximize** insight into a data set;\n",
    "1. **uncover** underlying structure;\n",
    "1. **extract** important variables;\n",
    "1. **detect** outliers and anomalies;\n",
    "1. **test** underlying assumptions;\n",
    "1. **develop** parsimonious models; and\n",
    "1. **determine** optimal factor settings.\n",
    "\n",
    "While there are multiple ways to approach and code an EDA, there is only three steps in the process.\n",
    "- Explore / Question\n",
    "- Clean / Verify\n",
    "- Document / Save\n",
    "\n",
    "As we have said many times already in our meetings, a common phrase within data analytics and data science is that 80%-90% of a data analysis' or data scientist's job is spent cleaning data (\"data munging\"). And to begin doing that, we have to know the data.\n",
    "\n",
    "___\n",
    "___\n",
    "\n",
    "# The Dataset\n",
    "\n",
    "This is our first introduction to the famous (at least within the data munging) Titanic Dataset. \n",
    "\n",
    "The sinking of the Titanic is one of the most infamous shipwrecks in history.\n",
    "\n",
    "On April 15, 1912, during her maiden voyage, the widely considered “unsinkable” RMS Titanic sank after colliding with an iceberg. Unfortunately, there weren’t enough lifeboats for everyone onboard, resulting in the death of 1502 out of 2224 passengers and crew.\n",
    "\n",
    "While there was some element of luck involved in surviving, it seems some groups of people were more likely to survive than others.\n",
    "\n",
    "This dataset consists of the manifest of the Titanic passengers on that fateful voyage. The dataset is split into two sub-sets:\n",
    "- train.csv\n",
    "- test.csv\n",
    "\n",
    "The training set is used to build your machine learning models, which we will do in later meetings. For the training set, the outcome (also known as the “ground truth”) for each passenger is provided. Our later predictive machine learning model will be based on “features” like passengers’ gender and class. \n",
    "\n",
    "The test set is used to see how well our yet to be built machine learning model performs on unseen data. For the test set, the ground truth for each passenger is not provided. In a later meeting, it will be our job to predict these outcomes. \n",
    "\n",
    "\n",
    "## Data Dictionary\n",
    "- 1survival: Survival- 0 = No, 1 = Yes\n",
    "- pclass: Ticket class- 1 = 1st, 2 = 2nd, 3 = 3rd\n",
    "- sex: Gender\t\n",
    "- Age: The ticket holder's age in years\t\n",
    "- sibsp: # of siblings / spouses aboard the Titanic with the ticket holder\t\n",
    "- parch: # of parents / children aboard the Titanic with the ticket holder\t\n",
    "- ticket: Ticket number\t\n",
    "- fare: Passenger fare\t\n",
    "- cabin: Cabin number\t\n",
    "- embarked:Port of Embarkation\tC = Cherbourg, Q = Queenstown, S = Southampton\n",
    "\n",
    "### Variable Notes\n",
    "pclass: A proxy for socio-economic status (SES)\n",
    "1st = Upper\n",
    "2nd = Middle\n",
    "3rd = Lower\n",
    "\n",
    "age: Age is fractional if less than 1. If the age is estimated, is it in the form of xx.5\n",
    "\n",
    "sibsp: The dataset defines family relations in this way...\n",
    "Sibling = brother, sister, stepbrother, stepsister\n",
    "\n",
    "Spouse = husband, wife (mistresses and fiancés were ignored)\n",
    "\n",
    "parch: The dataset defines family relations in this way...\n",
    "\n",
    "Parent = mother, father\n",
    "\n",
    "Child = daughter, son, stepdaughter, stepson\n",
    "\n",
    "Some children travelled only with a nanny, therefore parch=0 for them.\n",
    "\n",
    "___ \n",
    "\n",
    "# Step 1 - Explore and Question the Data\n",
    "\n",
    "## Step 1a - Loading the data\n",
    "\n",
    "To begin, we need to load the data into a Pandas DataFrame. In the next block,\n",
    "1. Load the Pandas Library\n",
    "1. Load the Matplotlib.pyplot library for later\n",
    "1. Load the train.csv dataset\n",
    "1. Check the first five rows of the DataFrame to get our first look at the data"
   ]
  },
  {
   "cell_type": "code",
   "execution_count": 1,
   "metadata": {
    "ExecuteTime": {
     "end_time": "2019-12-22T12:59:52.872835Z",
     "start_time": "2019-12-22T12:59:52.361996Z"
    }
   },
   "outputs": [
    {
     "data": {
      "text/html": [
       "<div>\n",
       "<style scoped>\n",
       "    .dataframe tbody tr th:only-of-type {\n",
       "        vertical-align: middle;\n",
       "    }\n",
       "\n",
       "    .dataframe tbody tr th {\n",
       "        vertical-align: top;\n",
       "    }\n",
       "\n",
       "    .dataframe thead th {\n",
       "        text-align: right;\n",
       "    }\n",
       "</style>\n",
       "<table border=\"1\" class=\"dataframe\">\n",
       "  <thead>\n",
       "    <tr style=\"text-align: right;\">\n",
       "      <th></th>\n",
       "      <th>PassengerId</th>\n",
       "      <th>Survived</th>\n",
       "      <th>Pclass</th>\n",
       "      <th>Name</th>\n",
       "      <th>Sex</th>\n",
       "      <th>Age</th>\n",
       "      <th>SibSp</th>\n",
       "      <th>Parch</th>\n",
       "      <th>Ticket</th>\n",
       "      <th>Fare</th>\n",
       "      <th>Cabin</th>\n",
       "      <th>Embarked</th>\n",
       "    </tr>\n",
       "  </thead>\n",
       "  <tbody>\n",
       "    <tr>\n",
       "      <th>0</th>\n",
       "      <td>1</td>\n",
       "      <td>0</td>\n",
       "      <td>3</td>\n",
       "      <td>Braund, Mr. Owen Harris</td>\n",
       "      <td>male</td>\n",
       "      <td>22.0</td>\n",
       "      <td>1</td>\n",
       "      <td>0</td>\n",
       "      <td>A/5 21171</td>\n",
       "      <td>7.2500</td>\n",
       "      <td>NaN</td>\n",
       "      <td>S</td>\n",
       "    </tr>\n",
       "    <tr>\n",
       "      <th>1</th>\n",
       "      <td>2</td>\n",
       "      <td>1</td>\n",
       "      <td>1</td>\n",
       "      <td>Cumings, Mrs. John Bradley (Florence Briggs Th...</td>\n",
       "      <td>female</td>\n",
       "      <td>38.0</td>\n",
       "      <td>1</td>\n",
       "      <td>0</td>\n",
       "      <td>PC 17599</td>\n",
       "      <td>71.2833</td>\n",
       "      <td>C85</td>\n",
       "      <td>C</td>\n",
       "    </tr>\n",
       "    <tr>\n",
       "      <th>2</th>\n",
       "      <td>3</td>\n",
       "      <td>1</td>\n",
       "      <td>3</td>\n",
       "      <td>Heikkinen, Miss. Laina</td>\n",
       "      <td>female</td>\n",
       "      <td>26.0</td>\n",
       "      <td>0</td>\n",
       "      <td>0</td>\n",
       "      <td>STON/O2. 3101282</td>\n",
       "      <td>7.9250</td>\n",
       "      <td>NaN</td>\n",
       "      <td>S</td>\n",
       "    </tr>\n",
       "    <tr>\n",
       "      <th>3</th>\n",
       "      <td>4</td>\n",
       "      <td>1</td>\n",
       "      <td>1</td>\n",
       "      <td>Futrelle, Mrs. Jacques Heath (Lily May Peel)</td>\n",
       "      <td>female</td>\n",
       "      <td>35.0</td>\n",
       "      <td>1</td>\n",
       "      <td>0</td>\n",
       "      <td>113803</td>\n",
       "      <td>53.1000</td>\n",
       "      <td>C123</td>\n",
       "      <td>S</td>\n",
       "    </tr>\n",
       "    <tr>\n",
       "      <th>4</th>\n",
       "      <td>5</td>\n",
       "      <td>0</td>\n",
       "      <td>3</td>\n",
       "      <td>Allen, Mr. William Henry</td>\n",
       "      <td>male</td>\n",
       "      <td>35.0</td>\n",
       "      <td>0</td>\n",
       "      <td>0</td>\n",
       "      <td>373450</td>\n",
       "      <td>8.0500</td>\n",
       "      <td>NaN</td>\n",
       "      <td>S</td>\n",
       "    </tr>\n",
       "  </tbody>\n",
       "</table>\n",
       "</div>"
      ],
      "text/plain": [
       "   PassengerId  Survived  Pclass  \\\n",
       "0            1         0       3   \n",
       "1            2         1       1   \n",
       "2            3         1       3   \n",
       "3            4         1       1   \n",
       "4            5         0       3   \n",
       "\n",
       "                                                Name     Sex   Age  SibSp  \\\n",
       "0                            Braund, Mr. Owen Harris    male  22.0      1   \n",
       "1  Cumings, Mrs. John Bradley (Florence Briggs Th...  female  38.0      1   \n",
       "2                             Heikkinen, Miss. Laina  female  26.0      0   \n",
       "3       Futrelle, Mrs. Jacques Heath (Lily May Peel)  female  35.0      1   \n",
       "4                           Allen, Mr. William Henry    male  35.0      0   \n",
       "\n",
       "   Parch            Ticket     Fare Cabin Embarked  \n",
       "0      0         A/5 21171   7.2500   NaN        S  \n",
       "1      0          PC 17599  71.2833   C85        C  \n",
       "2      0  STON/O2. 3101282   7.9250   NaN        S  \n",
       "3      0            113803  53.1000  C123        S  \n",
       "4      0            373450   8.0500   NaN        S  "
      ]
     },
     "execution_count": 1,
     "metadata": {},
     "output_type": "execute_result"
    }
   ],
   "source": [
    "import pandas as pd\n",
    "import matplotlib.pyplot as plt\n",
    "%matplotlib inline\n",
    "\n",
    "dftrain = pd.read_csv('data/train.csv')\n",
    "\n",
    "dftrain.head()"
   ]
  },
  {
   "cell_type": "markdown",
   "metadata": {},
   "source": [
    "## Step 1b - Questioning the Data\n",
    "\n",
    "Next, with the raw data, we begin to question the data. \n",
    "\n",
    "### Question 1: How large is the dataset?\n",
    "\n",
    "Using what you have learned, write the code to find out how large is the dataset."
   ]
  },
  {
   "cell_type": "code",
   "execution_count": 2,
   "metadata": {
    "ExecuteTime": {
     "end_time": "2019-12-22T12:59:52.877856Z",
     "start_time": "2019-12-22T12:59:52.874338Z"
    }
   },
   "outputs": [
    {
     "data": {
      "text/plain": [
       "(891, 12)"
      ]
     },
     "execution_count": 2,
     "metadata": {},
     "output_type": "execute_result"
    }
   ],
   "source": [
    "# Write your code here. \n",
    "\n",
    "dftrain.shape"
   ]
  },
  {
   "cell_type": "markdown",
   "metadata": {},
   "source": [
    "### Question 2: What types of variables are in the dataset?\n",
    "\n",
    "Using what you have learned, write the code to find out what types of variables are in the dataset. "
   ]
  },
  {
   "cell_type": "code",
   "execution_count": 3,
   "metadata": {
    "ExecuteTime": {
     "end_time": "2019-12-22T12:59:52.885719Z",
     "start_time": "2019-12-22T12:59:52.879569Z"
    }
   },
   "outputs": [
    {
     "data": {
      "text/plain": [
       "PassengerId      int64\n",
       "Survived         int64\n",
       "Pclass           int64\n",
       "Name            object\n",
       "Sex             object\n",
       "Age            float64\n",
       "SibSp            int64\n",
       "Parch            int64\n",
       "Ticket          object\n",
       "Fare           float64\n",
       "Cabin           object\n",
       "Embarked        object\n",
       "dtype: object"
      ]
     },
     "execution_count": 3,
     "metadata": {},
     "output_type": "execute_result"
    }
   ],
   "source": [
    "# Write your code here. \n",
    "dftrain.dtypes\n",
    "\n"
   ]
  },
  {
   "cell_type": "markdown",
   "metadata": {},
   "source": [
    "#### Examination Notes\n",
    "As we look at the types of variables, is there anything that stands out which we may want to take note of and address later in our cleaning?\n",
    "\n",
    "___\n",
    "\n",
    "### Question 3: Are there any missing values in the dataset?\n",
    "\n",
    "Missing values are important to know as it will affect our later analyses. There are a number of ways to address missing values when we later build our predictive machine learning model, but for now - as this is an *EXPLORATORY* data analysis - we are focused only on exploring the data. We will clean it in the next step.\n",
    "\n",
    "#### Method 1: `.info( )`\n",
    "\n",
    "The first method, which we have already covered, is the `.info( )` method. Since you already know this method, go ahead and code this method. Using what you have learned, go ahead and code the next line yourself, then run it. \n"
   ]
  },
  {
   "cell_type": "code",
   "execution_count": 4,
   "metadata": {
    "ExecuteTime": {
     "end_time": "2019-12-22T12:59:52.893838Z",
     "start_time": "2019-12-22T12:59:52.887591Z"
    },
    "scrolled": false
   },
   "outputs": [
    {
     "name": "stdout",
     "output_type": "stream",
     "text": [
      "<class 'pandas.core.frame.DataFrame'>\n",
      "RangeIndex: 891 entries, 0 to 890\n",
      "Data columns (total 12 columns):\n",
      "PassengerId    891 non-null int64\n",
      "Survived       891 non-null int64\n",
      "Pclass         891 non-null int64\n",
      "Name           891 non-null object\n",
      "Sex            891 non-null object\n",
      "Age            714 non-null float64\n",
      "SibSp          891 non-null int64\n",
      "Parch          891 non-null int64\n",
      "Ticket         891 non-null object\n",
      "Fare           891 non-null float64\n",
      "Cabin          204 non-null object\n",
      "Embarked       889 non-null object\n",
      "dtypes: float64(2), int64(5), object(5)\n",
      "memory usage: 83.6+ KB\n"
     ]
    }
   ],
   "source": [
    "# Write your code here. \n",
    "dftrain.info()\n"
   ]
  },
  {
   "cell_type": "markdown",
   "metadata": {},
   "source": [
    "#### Method 2: `isnull( ).sum( )`\n",
    "\n",
    "To find missing values in a dataset, we use the `.isnull()` command, and since we will want the total of any missing values by column, we will want to add `.sum()` on to that command.\n",
    "\n",
    "Because we did not cover this command before, I took the liberty of coding it for you. Run the next line of code."
   ]
  },
  {
   "cell_type": "code",
   "execution_count": 5,
   "metadata": {
    "ExecuteTime": {
     "end_time": "2019-12-22T12:59:52.900674Z",
     "start_time": "2019-12-22T12:59:52.895361Z"
    },
    "scrolled": true
   },
   "outputs": [
    {
     "data": {
      "text/plain": [
       "PassengerId      0\n",
       "Survived         0\n",
       "Pclass           0\n",
       "Name             0\n",
       "Sex              0\n",
       "Age            177\n",
       "SibSp            0\n",
       "Parch            0\n",
       "Ticket           0\n",
       "Fare             0\n",
       "Cabin          687\n",
       "Embarked         2\n",
       "dtype: int64"
      ]
     },
     "execution_count": 5,
     "metadata": {},
     "output_type": "execute_result"
    }
   ],
   "source": [
    "dftrain.isnull().sum()"
   ]
  },
  {
   "cell_type": "markdown",
   "metadata": {},
   "source": [
    "#### Bonus Challenge\n",
    "\n",
    "Reaching back to our discussions on graphing, write the code to graph the sum of nulls in Matplotlib."
   ]
  },
  {
   "cell_type": "code",
   "execution_count": 34,
   "metadata": {
    "ExecuteTime": {
     "end_time": "2019-12-22T12:59:53.171419Z",
     "start_time": "2019-12-22T12:59:52.902734Z"
    }
   },
   "outputs": [
    {
     "data": {
      "image/png": "[encoded data removed]",
      "text/plain": [
       "<Figure size 1080x360 with 1 Axes>"
      ]
     },
     "metadata": {
      "needs_background": "light"
     },
     "output_type": "display_data"
    }
   ],
   "source": [
    "# Write your code here. \n",
    "import matplotlib.pyplot as plt\n",
    "%matplotlib inline\n",
    "\n",
    "# Set the graphic size to read the labels\n",
    "plt.figure(figsize=(15,5))\n",
    "\n",
    "# Plot the bar chart\n",
    "x = dftrain.columns\n",
    "y = dftrain.isnull().sum()\n",
    "plt.bar(x, y, align='center')\n",
    "\n",
    "# or could have said: plt.bar(dftrain.columns, dftrain.isnull().sum())\n",
    "\n",
    "# Add some aesthetics\n",
    "plt.title(\"Titianic Null Values by Feature\")\n",
    "plt.xlabel('Column')\n",
    "plt.ylabel('Count of Null Values')\n",
    "\n",
    "# Show the plot\n",
    "plt.show()"
   ]
  },
  {
   "cell_type": "markdown",
   "metadata": {},
   "source": [
    "#### Examination Notes \n",
    "Do we see anything that we will want to note about missing values as we get to the next or subsequent phases?\n",
    "\n",
    "___\n",
    "\n",
    "\n",
    "### Question 4: Are there any duplicated rows in the dataset?\n",
    "\n",
    "As we might suspect, duplicated observations/rows will throw our later anlaysis off. In order to find the count of duplicated values, we want to use the `.duplicated()` command. And again, since we want to look at a count of the number of duplications within the dataset we will want to add the `.sum()` command to our code. \n"
   ]
  },
  {
   "cell_type": "code",
   "execution_count": 7,
   "metadata": {
    "ExecuteTime": {
     "end_time": "2019-12-22T12:59:53.179428Z",
     "start_time": "2019-12-22T12:59:53.172553Z"
    }
   },
   "outputs": [
    {
     "data": {
      "text/plain": [
       "0      False\n",
       "1      False\n",
       "2      False\n",
       "3      False\n",
       "4      False\n",
       "5      False\n",
       "6      False\n",
       "7      False\n",
       "8      False\n",
       "9      False\n",
       "10     False\n",
       "11     False\n",
       "12     False\n",
       "13     False\n",
       "14     False\n",
       "15     False\n",
       "16     False\n",
       "17     False\n",
       "18     False\n",
       "19     False\n",
       "20     False\n",
       "21     False\n",
       "22     False\n",
       "23     False\n",
       "24     False\n",
       "25     False\n",
       "26     False\n",
       "27     False\n",
       "28     False\n",
       "29     False\n",
       "       ...  \n",
       "861    False\n",
       "862    False\n",
       "863    False\n",
       "864    False\n",
       "865    False\n",
       "866    False\n",
       "867    False\n",
       "868    False\n",
       "869    False\n",
       "870    False\n",
       "871    False\n",
       "872    False\n",
       "873    False\n",
       "874    False\n",
       "875    False\n",
       "876    False\n",
       "877    False\n",
       "878    False\n",
       "879    False\n",
       "880    False\n",
       "881    False\n",
       "882    False\n",
       "883    False\n",
       "884    False\n",
       "885    False\n",
       "886    False\n",
       "887    False\n",
       "888    False\n",
       "889    False\n",
       "890    False\n",
       "Length: 891, dtype: bool"
      ]
     },
     "execution_count": 7,
     "metadata": {},
     "output_type": "execute_result"
    }
   ],
   "source": [
    "# Write your code here. \n",
    "# dftrain.duplicated().sum()\n",
    "\n",
    "dftrain.duplicated() # do this to get more detail if there was duplication"
   ]
  },
  {
   "cell_type": "markdown",
   "metadata": {},
   "source": [
    "### Question 5: What is the statistical description say about the dataset?\n",
    "\n",
    "Given our past discussions, use the appropriate command to show the statistical description of the dataset."
   ]
  },
  {
   "cell_type": "code",
   "execution_count": 8,
   "metadata": {
    "ExecuteTime": {
     "end_time": "2019-12-22T12:59:53.209362Z",
     "start_time": "2019-12-22T12:59:53.181600Z"
    }
   },
   "outputs": [
    {
     "data": {
      "text/html": [
       "<div>\n",
       "<style scoped>\n",
       "    .dataframe tbody tr th:only-of-type {\n",
       "        vertical-align: middle;\n",
       "    }\n",
       "\n",
       "    .dataframe tbody tr th {\n",
       "        vertical-align: top;\n",
       "    }\n",
       "\n",
       "    .dataframe thead th {\n",
       "        text-align: right;\n",
       "    }\n",
       "</style>\n",
       "<table border=\"1\" class=\"dataframe\">\n",
       "  <thead>\n",
       "    <tr style=\"text-align: right;\">\n",
       "      <th></th>\n",
       "      <th>PassengerId</th>\n",
       "      <th>Survived</th>\n",
       "      <th>Pclass</th>\n",
       "      <th>Age</th>\n",
       "      <th>SibSp</th>\n",
       "      <th>Parch</th>\n",
       "      <th>Fare</th>\n",
       "    </tr>\n",
       "  </thead>\n",
       "  <tbody>\n",
       "    <tr>\n",
       "      <th>count</th>\n",
       "      <td>891.000000</td>\n",
       "      <td>891.000000</td>\n",
       "      <td>891.000000</td>\n",
       "      <td>714.000000</td>\n",
       "      <td>891.000000</td>\n",
       "      <td>891.000000</td>\n",
       "      <td>891.000000</td>\n",
       "    </tr>\n",
       "    <tr>\n",
       "      <th>mean</th>\n",
       "      <td>446.000000</td>\n",
       "      <td>0.383838</td>\n",
       "      <td>2.308642</td>\n",
       "      <td>29.699118</td>\n",
       "      <td>0.523008</td>\n",
       "      <td>0.381594</td>\n",
       "      <td>32.204208</td>\n",
       "    </tr>\n",
       "    <tr>\n",
       "      <th>std</th>\n",
       "      <td>257.353842</td>\n",
       "      <td>0.486592</td>\n",
       "      <td>0.836071</td>\n",
       "      <td>14.526497</td>\n",
       "      <td>1.102743</td>\n",
       "      <td>0.806057</td>\n",
       "      <td>49.693429</td>\n",
       "    </tr>\n",
       "    <tr>\n",
       "      <th>min</th>\n",
       "      <td>1.000000</td>\n",
       "      <td>0.000000</td>\n",
       "      <td>1.000000</td>\n",
       "      <td>0.420000</td>\n",
       "      <td>0.000000</td>\n",
       "      <td>0.000000</td>\n",
       "      <td>0.000000</td>\n",
       "    </tr>\n",
       "    <tr>\n",
       "      <th>25%</th>\n",
       "      <td>223.500000</td>\n",
       "      <td>0.000000</td>\n",
       "      <td>2.000000</td>\n",
       "      <td>20.125000</td>\n",
       "      <td>0.000000</td>\n",
       "      <td>0.000000</td>\n",
       "      <td>7.910400</td>\n",
       "    </tr>\n",
       "    <tr>\n",
       "      <th>50%</th>\n",
       "      <td>446.000000</td>\n",
       "      <td>0.000000</td>\n",
       "      <td>3.000000</td>\n",
       "      <td>28.000000</td>\n",
       "      <td>0.000000</td>\n",
       "      <td>0.000000</td>\n",
       "      <td>14.454200</td>\n",
       "    </tr>\n",
       "    <tr>\n",
       "      <th>75%</th>\n",
       "      <td>668.500000</td>\n",
       "      <td>1.000000</td>\n",
       "      <td>3.000000</td>\n",
       "      <td>38.000000</td>\n",
       "      <td>1.000000</td>\n",
       "      <td>0.000000</td>\n",
       "      <td>31.000000</td>\n",
       "    </tr>\n",
       "    <tr>\n",
       "      <th>max</th>\n",
       "      <td>891.000000</td>\n",
       "      <td>1.000000</td>\n",
       "      <td>3.000000</td>\n",
       "      <td>80.000000</td>\n",
       "      <td>8.000000</td>\n",
       "      <td>6.000000</td>\n",
       "      <td>512.329200</td>\n",
       "    </tr>\n",
       "  </tbody>\n",
       "</table>\n",
       "</div>"
      ],
      "text/plain": [
       "       PassengerId    Survived      Pclass         Age       SibSp  \\\n",
       "count   891.000000  891.000000  891.000000  714.000000  891.000000   \n",
       "mean    446.000000    0.383838    2.308642   29.699118    0.523008   \n",
       "std     257.353842    0.486592    0.836071   14.526497    1.102743   \n",
       "min       1.000000    0.000000    1.000000    0.420000    0.000000   \n",
       "25%     223.500000    0.000000    2.000000   20.125000    0.000000   \n",
       "50%     446.000000    0.000000    3.000000   28.000000    0.000000   \n",
       "75%     668.500000    1.000000    3.000000   38.000000    1.000000   \n",
       "max     891.000000    1.000000    3.000000   80.000000    8.000000   \n",
       "\n",
       "            Parch        Fare  \n",
       "count  891.000000  891.000000  \n",
       "mean     0.381594   32.204208  \n",
       "std      0.806057   49.693429  \n",
       "min      0.000000    0.000000  \n",
       "25%      0.000000    7.910400  \n",
       "50%      0.000000   14.454200  \n",
       "75%      0.000000   31.000000  \n",
       "max      6.000000  512.329200  "
      ]
     },
     "execution_count": 8,
     "metadata": {},
     "output_type": "execute_result"
    }
   ],
   "source": [
    "# Write your code here. \n",
    "dftrain.describe()\n",
    "\n"
   ]
  },
  {
   "cell_type": "markdown",
   "metadata": {},
   "source": [
    "## Exercise 1\n",
    "\n",
    "We have done a number of things already to explore and question our data. In order to make it easier to picture in our heads, in the next block write out code to do Step 1 so that it is in one block of code (answering the four questions we asked in Step 1). \n",
    "\n",
    "### Extra Challenge\n",
    "Can you write this in one line of code, giving each element a title, and separating the output by a blank space so it is easier to read?"
   ]
  },
  {
   "cell_type": "code",
   "execution_count": 35,
   "metadata": {
    "ExecuteTime": {
     "end_time": "2019-12-22T12:59:53.241244Z",
     "start_time": "2019-12-22T12:59:53.211607Z"
    }
   },
   "outputs": [
    {
     "name": "stdout",
     "output_type": "stream",
     "text": [
      "\n",
      "\n",
      "DIMENSIONS how large is the dataset?: rows and colums (891, 12) \n",
      "\n",
      "VARIABLE TYPES:\n",
      " passengerid     object\n",
      "survived         int64\n",
      "pclass           int64\n",
      "name            object\n",
      "sex             object\n",
      "age            float64\n",
      "sibsp            int64\n",
      "parch            int64\n",
      "ticket          object\n",
      "fare           float64\n",
      "cabin           object\n",
      "embarked        object\n",
      "dtype: object \n",
      "\n",
      "NUMBER OF NULL VALUES: \n",
      " passengerid      0\n",
      "survived         0\n",
      "pclass           0\n",
      "name             0\n",
      "sex              0\n",
      "age            177\n",
      "sibsp            0\n",
      "parch            0\n",
      "ticket           0\n",
      "fare             0\n",
      "cabin          687\n",
      "embarked         2\n",
      "dtype: int64 \n",
      "\n",
      "NUMBER OF DUPLICATED ROWS: \n",
      " 0 \n",
      "\n",
      "STATISTICAL DESCRIPTION: \n",
      "          survived      pclass         age       sibsp       parch        fare\n",
      "count  891.000000  891.000000  714.000000  891.000000  891.000000  891.000000\n",
      "mean     0.383838    2.308642   29.699118    0.523008    0.381594   32.204208\n",
      "std      0.486592    0.836071   14.526497    1.102743    0.806057   49.693429\n",
      "min      0.000000    1.000000    0.420000    0.000000    0.000000    0.000000\n",
      "25%      0.000000    2.000000   20.125000    0.000000    0.000000    7.910400\n",
      "50%      0.000000    3.000000   28.000000    0.000000    0.000000   14.454200\n",
      "75%      1.000000    3.000000   38.000000    1.000000    0.000000   31.000000\n",
      "max      1.000000    3.000000   80.000000    8.000000    6.000000  512.329200\n"
     ]
    }
   ],
   "source": [
    "# Write your code here. \n",
    "\n",
    "print ('\\n\\nDIMENSIONS How large is the dataset?: rows and colums', dftrain.shape,\n",
    "       '\\n\\nVARIABLE TYPES:\\n', dftrain.dtypes,\n",
    "       '\\n\\nNUMBER OF NULL VALUES: \\n', dftrain.isnull().sum(),\n",
    "       '\\n\\nNUMBER OF DUPLICATED ROWS: \\n', dftrain.duplicated().sum(),\n",
    "       '\\n\\nSTATISTICAL DESCRIPTION: \\n', dftrain.describe(),\n",
    "       ## '\\n\\nINFORMATION: \\n', dftrain.info(),\n",
    "      )"
   ]
  },
  {
   "cell_type": "markdown",
   "metadata": {},
   "source": [
    "# Step 2 - Clean and Verify the Data\n",
    "\n",
    "Now that we have done an initial look at the data, we know that there is some cleaning to do. Looking back at our notes from Step 1, we know that some of the variable types need to be changed. \n",
    "1. Let's discuss each variable before we change them. \n",
    "1. Then we will change each variable type to what we need them to be. \n",
    "\n",
    ">### A note on EDA intended output\n",
    ">Not every problem is the same, so not every EDA exercise will be either. Beyond the basic quality and cleanliness of your dataset (as Omar Elgabry states), “Understanding what are you trying to accomplish, your ultimate goal is critical prior to taking any actions.”. A clear understanding of the purpose and intended use case for your final dataset will inform any additional EDA tasks you may wish to perform.\n",
    "\n",
    ">For example, if your goal is to run your data through a machine learning algorithm to solve a binary classification problem (i.e. predict an outcome of yes/no, is likely/not likely, etc.), you’ll need to perform some type of “preprocessing” on your target (predictor) variable to assign binary values to your positive (1) and negative (0) classes. If your data includes “categorical” data types, you’ll need to convert them to numerical values prior to machine learning. A common pandas method to accomplish this is:\n",
    ">`.get_dummies()` — convert categorical variables [https://pandas.pydata.org/pandas-docs/stable/reference/api/pandas.get_dummies.html]\n",
    "\n",
    "## Integer, Float or Object?\n",
    "How many of our variable types are integers or floats which will be used as text or \"objects\"?\n",
    "\n",
    "In the next block, using what we have already learned from our meetings about Pandas, change the variables appropriately from our discussion for this dataset. Then verify that the changes have taken place. "
   ]
  },
  {
   "cell_type": "code",
   "execution_count": 10,
   "metadata": {
    "ExecuteTime": {
     "end_time": "2019-12-22T12:59:53.249550Z",
     "start_time": "2019-12-22T12:59:53.242906Z"
    }
   },
   "outputs": [
    {
     "data": {
      "text/plain": [
       "PassengerId     object\n",
       "Survived         int64\n",
       "Pclass           int64\n",
       "Name            object\n",
       "Sex             object\n",
       "Age            float64\n",
       "SibSp            int64\n",
       "Parch            int64\n",
       "Ticket          object\n",
       "Fare           float64\n",
       "Cabin           object\n",
       "Embarked        object\n",
       "dtype: object"
      ]
     },
     "execution_count": 10,
     "metadata": {},
     "output_type": "execute_result"
    }
   ],
   "source": [
    "# Write your code here\n",
    "dftrain['PassengerId'] = dftrain['PassengerId'].astype(object)\n",
    "\n",
    "dftrain.dtypes\n"
   ]
  },
  {
   "cell_type": "markdown",
   "metadata": {},
   "source": [
    "## What about Column Titles?\n",
    "\n",
    "This step is purely optional, but we will do it anyway so that we have nice and clean column titles. \n",
    "\n",
    "When we talked about Pandas previously, we discussed on method of changing column titles by listing them out in a dictionary and changing the titles. While that method is fine for the dataset we used at the time (and could be used for this dataset given its limited number of columns), what happens when you have 25 feature names? 75? 1000?\n",
    "\n",
    "Another simple method to changing all of the feature names to columns is to use the `map()` command - which maps back to the DataFrame what you want to change. In addition, we want to use the `.lower()` command which changes all of the strings that you designate to all lower case. \n",
    "\n",
    "I took the liberty of writing out this code so you can see how it works. "
   ]
  },
  {
   "cell_type": "code",
   "execution_count": 16,
   "metadata": {
    "ExecuteTime": {
     "end_time": "2019-12-22T12:59:53.264610Z",
     "start_time": "2019-12-22T12:59:53.250947Z"
    }
   },
   "outputs": [
    {
     "data": {
      "text/html": [
       "<div>\n",
       "<style scoped>\n",
       "    .dataframe tbody tr th:only-of-type {\n",
       "        vertical-align: middle;\n",
       "    }\n",
       "\n",
       "    .dataframe tbody tr th {\n",
       "        vertical-align: top;\n",
       "    }\n",
       "\n",
       "    .dataframe thead th {\n",
       "        text-align: right;\n",
       "    }\n",
       "</style>\n",
       "<table border=\"1\" class=\"dataframe\">\n",
       "  <thead>\n",
       "    <tr style=\"text-align: right;\">\n",
       "      <th></th>\n",
       "      <th>passengerid</th>\n",
       "      <th>survived</th>\n",
       "      <th>pclass</th>\n",
       "      <th>name</th>\n",
       "      <th>sex</th>\n",
       "      <th>age</th>\n",
       "      <th>sibsp</th>\n",
       "      <th>parch</th>\n",
       "      <th>ticket</th>\n",
       "      <th>fare</th>\n",
       "      <th>cabin</th>\n",
       "      <th>embarked</th>\n",
       "    </tr>\n",
       "  </thead>\n",
       "  <tbody>\n",
       "    <tr>\n",
       "      <th>0</th>\n",
       "      <td>1</td>\n",
       "      <td>0</td>\n",
       "      <td>3</td>\n",
       "      <td>Braund, Mr. Owen Harris</td>\n",
       "      <td>male</td>\n",
       "      <td>22.0</td>\n",
       "      <td>1</td>\n",
       "      <td>0</td>\n",
       "      <td>A/5 21171</td>\n",
       "      <td>7.2500</td>\n",
       "      <td>NaN</td>\n",
       "      <td>S</td>\n",
       "    </tr>\n",
       "    <tr>\n",
       "      <th>1</th>\n",
       "      <td>2</td>\n",
       "      <td>1</td>\n",
       "      <td>1</td>\n",
       "      <td>Cumings, Mrs. John Bradley (Florence Briggs Th...</td>\n",
       "      <td>female</td>\n",
       "      <td>38.0</td>\n",
       "      <td>1</td>\n",
       "      <td>0</td>\n",
       "      <td>PC 17599</td>\n",
       "      <td>71.2833</td>\n",
       "      <td>C85</td>\n",
       "      <td>C</td>\n",
       "    </tr>\n",
       "    <tr>\n",
       "      <th>2</th>\n",
       "      <td>3</td>\n",
       "      <td>1</td>\n",
       "      <td>3</td>\n",
       "      <td>Heikkinen, Miss. Laina</td>\n",
       "      <td>female</td>\n",
       "      <td>26.0</td>\n",
       "      <td>0</td>\n",
       "      <td>0</td>\n",
       "      <td>STON/O2. 3101282</td>\n",
       "      <td>7.9250</td>\n",
       "      <td>NaN</td>\n",
       "      <td>S</td>\n",
       "    </tr>\n",
       "    <tr>\n",
       "      <th>3</th>\n",
       "      <td>4</td>\n",
       "      <td>1</td>\n",
       "      <td>1</td>\n",
       "      <td>Futrelle, Mrs. Jacques Heath (Lily May Peel)</td>\n",
       "      <td>female</td>\n",
       "      <td>35.0</td>\n",
       "      <td>1</td>\n",
       "      <td>0</td>\n",
       "      <td>113803</td>\n",
       "      <td>53.1000</td>\n",
       "      <td>C123</td>\n",
       "      <td>S</td>\n",
       "    </tr>\n",
       "    <tr>\n",
       "      <th>4</th>\n",
       "      <td>5</td>\n",
       "      <td>0</td>\n",
       "      <td>3</td>\n",
       "      <td>Allen, Mr. William Henry</td>\n",
       "      <td>male</td>\n",
       "      <td>35.0</td>\n",
       "      <td>0</td>\n",
       "      <td>0</td>\n",
       "      <td>373450</td>\n",
       "      <td>8.0500</td>\n",
       "      <td>NaN</td>\n",
       "      <td>S</td>\n",
       "    </tr>\n",
       "  </tbody>\n",
       "</table>\n",
       "</div>"
      ],
      "text/plain": [
       "  passengerid  survived  pclass  \\\n",
       "0           1         0       3   \n",
       "1           2         1       1   \n",
       "2           3         1       3   \n",
       "3           4         1       1   \n",
       "4           5         0       3   \n",
       "\n",
       "                                                name     sex   age  sibsp  \\\n",
       "0                            Braund, Mr. Owen Harris    male  22.0      1   \n",
       "1  Cumings, Mrs. John Bradley (Florence Briggs Th...  female  38.0      1   \n",
       "2                             Heikkinen, Miss. Laina  female  26.0      0   \n",
       "3       Futrelle, Mrs. Jacques Heath (Lily May Peel)  female  35.0      1   \n",
       "4                           Allen, Mr. William Henry    male  35.0      0   \n",
       "\n",
       "   parch            ticket     fare cabin embarked  \n",
       "0      0         A/5 21171   7.2500   NaN        S  \n",
       "1      0          PC 17599  71.2833   C85        C  \n",
       "2      0  STON/O2. 3101282   7.9250   NaN        S  \n",
       "3      0            113803  53.1000  C123        S  \n",
       "4      0            373450   8.0500   NaN        S  "
      ]
     },
     "execution_count": 16,
     "metadata": {},
     "output_type": "execute_result"
    }
   ],
   "source": [
    "# Map the lowering function to all column names\n",
    "dftrain.columns = map(str.lower, dftrain.columns)\n",
    "\n",
    "dftrain.head()"
   ]
  },
  {
   "cell_type": "markdown",
   "metadata": {},
   "source": [
    "## Exercise 2: Verify and Explore the Data a Bit More\n",
    "\n",
    "Now that we have cleaned our data, let's do a bit more exploring by way of separating and plotting the values.\n",
    "\n",
    "### Separating the columns into numeric & categorical\n",
    "\n",
    "Having a list of the numeric columns and a list of the categorical columns comes in handy for plotting and for working with each category. In the next block, write a block of code that examines each column and separates it into a numeric column (num_column) list or into a categorical column (cat_column) list. Then print out each list with a title to the list. "
   ]
  },
  {
   "cell_type": "code",
   "execution_count": 19,
   "metadata": {
    "ExecuteTime": {
     "end_time": "2019-12-22T12:59:53.272286Z",
     "start_time": "2019-12-22T12:59:53.266006Z"
    }
   },
   "outputs": [
    {
     "name": "stdout",
     "output_type": "stream",
     "text": [
      "Numeric columns:\n",
      " ['survived', 'pclass', 'age', 'sibsp', 'parch', 'fare']\n",
      "\n",
      "Categorical columns: \n",
      " ['passengerid', 'name', 'sex', 'ticket', 'cabin', 'embarked']\n"
     ]
    }
   ],
   "source": [
    "#Write your code here.\n",
    "\n",
    "# dftrain.dtypes\n",
    "# num = int64, float64\n",
    "# cat = object\n",
    "\n",
    "num_column = []\n",
    "cat_column = []\n",
    "\n",
    "for col in dftrain.columns:\n",
    "    if dftrain[col].dtypes == 'int64':\n",
    "        num_column.append(col)\n",
    "    elif dftrain[col].dtypes == 'float64':\n",
    "        num_column.append(col)\n",
    "    else:\n",
    "        cat_column.append(col)\n",
    "        \n",
    "print ('Numeric columns:\\n', num_column)\n",
    "print ('\\nCategorical columns: \\n', cat_column)\n"
   ]
  },
  {
   "cell_type": "code",
   "execution_count": 24,
   "metadata": {},
   "outputs": [
    {
     "name": "stdout",
     "output_type": "stream",
     "text": [
      "Numeric columns:\n",
      " ['survived', 'pclass', 'age', 'sibsp', 'parch', 'fare']\n",
      "\n",
      "Categorical columns: \n",
      " ['passengerid', 'name', 'sex', 'ticket', 'cabin', 'embarked']\n"
     ]
    }
   ],
   "source": [
    "num_column = []\n",
    "cat_column = []\n",
    "\n",
    "for col in dftrain.columns:\n",
    "    if dftrain[col].dtypes =='object':\n",
    "        cat_column.append(col)\n",
    "    else:\n",
    "        num_column.append(col)\n",
    "        \n",
    "print ('Numeric columns:\\n', num_column)\n",
    "print ('\\nCategorical columns: \\n', cat_column)"
   ]
  },
  {
   "cell_type": "markdown",
   "metadata": {},
   "source": [
    "#### So why do we want to lists of column types?\n",
    "\n",
    "In the next block of code you will see that by having a list of all of the numerical column names, we can produce multiple charts with one simple line of code. "
   ]
  },
  {
   "cell_type": "code",
   "execution_count": 20,
   "metadata": {
    "ExecuteTime": {
     "end_time": "2019-12-22T12:59:54.140760Z",
     "start_time": "2019-12-22T12:59:53.273803Z"
    }
   },
   "outputs": [
    {
     "data": {
      "image/png": "[encoded data removed]",
      "text/plain": [
       "<Figure size 1080x1080 with 6 Axes>"
      ]
     },
     "metadata": {
      "needs_background": "light"
     },
     "output_type": "display_data"
    }
   ],
   "source": [
    "#This will turn off any warnings from running the next bit of code.\n",
    "import seaborn as sns\n",
    "import matplotlib.pyplot as plt\n",
    "%matplotlib inline\n",
    "import warnings\n",
    "warnings.filterwarnings('ignore')\n",
    "\n",
    "#We set the figure size.\n",
    "plt.figure(figsize = (15,15))\n",
    "\n",
    "#This allows you to retrieve the axis in the figure we will create\n",
    "# so that we can print two charts side by side. \n",
    "# It is needed in the next line of code.\n",
    "ax = plt.gca()\n",
    "\n",
    "#This plots each of the numerical columns on a separate histogram\n",
    "# with two histograms per row.\n",
    "dftrain[num_column].hist(ax=ax)\n",
    "\n",
    "# And this shows the graphs.\n",
    "plt.show()"
   ]
  },
  {
   "cell_type": "markdown",
   "metadata": {},
   "source": [
    "### pclass & survived\n",
    "\n",
    "Using the seaborn library, select an appropriate plot to examine the relationship between pclass and survived."
   ]
  },
  {
   "cell_type": "code",
   "execution_count": null,
   "metadata": {
    "ExecuteTime": {
     "end_time": "2019-12-22T12:59:54.590211Z",
     "start_time": "2019-12-22T12:59:54.142504Z"
    },
    "scrolled": true
   },
   "outputs": [],
   "source": [
    "#Write your code here. \n",
    "import seaborn as sns\n",
    "\n",
    "\n",
    "\n"
   ]
  },
  {
   "cell_type": "markdown",
   "metadata": {},
   "source": [
    "### sex & survived\n",
    "\n",
    "Using the seaborn library, select an appropriate plot to examine the relationship between sex and survived."
   ]
  },
  {
   "cell_type": "code",
   "execution_count": null,
   "metadata": {
    "ExecuteTime": {
     "end_time": "2019-12-22T12:59:54.791513Z",
     "start_time": "2019-12-22T12:59:54.592097Z"
    }
   },
   "outputs": [],
   "source": [
    "# Write your code here. \n",
    "\n"
   ]
  },
  {
   "cell_type": "markdown",
   "metadata": {},
   "source": [
    "### age & survived\n",
    "\n",
    "Using the seaborn library, select an appropriate plot to examine the relationship between age and survived."
   ]
  },
  {
   "cell_type": "code",
   "execution_count": null,
   "metadata": {
    "ExecuteTime": {
     "end_time": "2019-12-22T12:59:54.928287Z",
     "start_time": "2019-12-22T12:59:54.793132Z"
    }
   },
   "outputs": [],
   "source": [
    "# Write your code here. \n",
    "\n"
   ]
  },
  {
   "cell_type": "markdown",
   "metadata": {},
   "source": [
    "### parch & survived\n",
    "\n",
    "Using the seaborn library, select an appropriate plot to examine the relationship between parch and survived."
   ]
  },
  {
   "cell_type": "code",
   "execution_count": null,
   "metadata": {
    "ExecuteTime": {
     "end_time": "2019-12-22T12:59:55.122487Z",
     "start_time": "2019-12-22T12:59:54.929731Z"
    }
   },
   "outputs": [],
   "source": [
    "# Write your code here. \n",
    "\n"
   ]
  },
  {
   "cell_type": "markdown",
   "metadata": {},
   "source": [
    "### embark & survived\n",
    "\n",
    "Using the seaborn library, select an appropriate plot to examine the relationship between embarked and survived."
   ]
  },
  {
   "cell_type": "code",
   "execution_count": null,
   "metadata": {
    "ExecuteTime": {
     "end_time": "2019-12-22T12:59:55.373263Z",
     "start_time": "2019-12-22T12:59:55.123731Z"
    }
   },
   "outputs": [],
   "source": [
    "# Write your code here. \n",
    "\n"
   ]
  },
  {
   "cell_type": "markdown",
   "metadata": {},
   "source": [
    "### sibsp & survived\n",
    "\n",
    "Using the seaborn library, select an appropriate plot to examine the relationship between sibsp and survived."
   ]
  },
  {
   "cell_type": "code",
   "execution_count": null,
   "metadata": {
    "ExecuteTime": {
     "end_time": "2019-12-22T12:59:55.509220Z",
     "start_time": "2019-12-22T12:59:55.374588Z"
    }
   },
   "outputs": [],
   "source": [
    "# Write your code here. \n",
    "\n"
   ]
  },
  {
   "cell_type": "markdown",
   "metadata": {},
   "source": [
    "### fare & pclass & survived\n",
    "\n",
    "Using the seaborn library, select an appropriate plot to examine the relationship between fare, pclass, and survived."
   ]
  },
  {
   "cell_type": "code",
   "execution_count": null,
   "metadata": {
    "ExecuteTime": {
     "end_time": "2019-12-22T12:59:55.723537Z",
     "start_time": "2019-12-22T12:59:55.510350Z"
    }
   },
   "outputs": [],
   "source": [
    "# Write your code here. \n",
    "\n"
   ]
  },
  {
   "cell_type": "markdown",
   "metadata": {},
   "source": [
    "### sex & pclass & survived\n",
    "\n",
    "Using the seaborn library, select an appropriate plot to examine the relationship between sex, pclass, and survived."
   ]
  },
  {
   "cell_type": "code",
   "execution_count": null,
   "metadata": {
    "ExecuteTime": {
     "end_time": "2019-12-22T12:59:55.915621Z",
     "start_time": "2019-12-22T12:59:55.725262Z"
    }
   },
   "outputs": [],
   "source": [
    "# Write your code here. \n",
    "\n"
   ]
  },
  {
   "cell_type": "markdown",
   "metadata": {},
   "source": [
    "### sex & age & survived\n",
    "\n",
    "Using the seaborn library, select an appropriate plot to examine the relationship between sex, age, and survived."
   ]
  },
  {
   "cell_type": "code",
   "execution_count": null,
   "metadata": {
    "ExecuteTime": {
     "end_time": "2019-12-22T12:59:56.176094Z",
     "start_time": "2019-12-22T12:59:55.917378Z"
    },
    "scrolled": true
   },
   "outputs": [],
   "source": [
    "# Write your code here. \n",
    "\n"
   ]
  },
  {
   "cell_type": "markdown",
   "metadata": {},
   "source": [
    "### sex & parch & survived\n",
    "\n",
    "Using the seaborn library, select an appropriate plot to examine the relationship between sex, parch, and survived."
   ]
  },
  {
   "cell_type": "code",
   "execution_count": null,
   "metadata": {
    "ExecuteTime": {
     "end_time": "2019-12-22T13:00:03.635885Z",
     "start_time": "2019-12-22T12:59:56.179093Z"
    },
    "scrolled": true
   },
   "outputs": [],
   "source": [
    "# Write your code here. \n",
    "\n"
   ]
  },
  {
   "cell_type": "markdown",
   "metadata": {},
   "source": [
    "### age & pclass & survived\n",
    "\n",
    "Using the seaborn library, select an appropriate plot to examine the relationship between age, pclass, and survived."
   ]
  },
  {
   "cell_type": "code",
   "execution_count": null,
   "metadata": {
    "ExecuteTime": {
     "end_time": "2019-12-22T13:00:03.980954Z",
     "start_time": "2019-12-22T13:00:03.637940Z"
    }
   },
   "outputs": [],
   "source": [
    "# Write your code here. \n",
    "\n"
   ]
  },
  {
   "cell_type": "code",
   "execution_count": null,
   "metadata": {
    "ExecuteTime": {
     "end_time": "2019-12-22T13:00:04.533778Z",
     "start_time": "2019-12-22T13:00:03.982298Z"
    },
    "scrolled": true
   },
   "outputs": [],
   "source": [
    "# Write your code here. \n",
    "\n"
   ]
  },
  {
   "cell_type": "markdown",
   "metadata": {},
   "source": [
    "### Bonus Lesson Item: crosstab\n",
    "\n",
    "For color selections, go to [https://matplotlib.org/3.1.1/tutorials/colors/colormaps.html#sphx-glr-tutorials-colors-colormaps-py]\n"
   ]
  },
  {
   "cell_type": "code",
   "execution_count": null,
   "metadata": {
    "ExecuteTime": {
     "end_time": "2019-12-22T13:00:04.863215Z",
     "start_time": "2019-12-22T13:00:04.535161Z"
    }
   },
   "outputs": [],
   "source": [
    "pd.crosstab([df.sex, df.survived], df.pclass, margins=True).style.background_gradient(cmap='plasma_r')"
   ]
  },
  {
   "cell_type": "code",
   "execution_count": null,
   "metadata": {
    "ExecuteTime": {
     "end_time": "2019-12-22T13:00:05.021846Z",
     "start_time": "2019-12-22T13:00:04.864420Z"
    }
   },
   "outputs": [],
   "source": [
    "pd.crosstab([df.sibsp, df.survived], df.pclass, margins=True).style.background_gradient(cmap='magma_r')"
   ]
  },
  {
   "cell_type": "code",
   "execution_count": null,
   "metadata": {},
   "outputs": [],
   "source": []
  },
  {
   "cell_type": "code",
   "execution_count": null,
   "metadata": {},
   "outputs": [],
   "source": []
  },
  {
   "cell_type": "code",
   "execution_count": null,
   "metadata": {},
   "outputs": [],
   "source": []
  }
 ],
 "metadata": {
  "kernelspec": {
   "display_name": "Python 3",
   "language": "python",
   "name": "python3"
  },
  "language_info": {
   "codemirror_mode": {
    "name": "ipython",
    "version": 3
   },
   "file_extension": ".py",
   "mimetype": "text/x-python",
   "name": "python",
   "nbconvert_exporter": "python",
   "pygments_lexer": "ipython3",
   "version": "3.7.3"
  },
  "toc": {
   "base_numbering": 1,
   "nav_menu": {},
   "number_sections": true,
   "sideBar": true,
   "skip_h1_title": false,
   "title_cell": "Table of Contents",
   "title_sidebar": "Contents",
   "toc_cell": false,
   "toc_position": {
    "height": "calc(100% - 180px)",
    "left": "10px",
    "top": "150px",
    "width": "435px"
   },
   "toc_section_display": true,
   "toc_window_display": true
  }
 },
 "nbformat": 4,
 "nbformat_minor": 2
}
